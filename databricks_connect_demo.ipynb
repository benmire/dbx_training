{
 "cells": [
  {
   "cell_type": "markdown",
   "metadata": {},
   "source": [
    "# Databricks Connect Demo\n",
    "\n",
    "Simple demonstration of querying and transforming data using Databricks Connect.\n",
    "\n",
    "**Prerequisites:**\n",
    "- Databricks Connect configured\n",
    "- Access to `samples.nyctaxi.trips` table"
   ]
  },
  {
   "cell_type": "markdown",
   "metadata": {},
   "source": [
    "## 1. Load Data from Databricks\n",
    "\n",
    "Query the NYC taxi trips sample dataset"
   ]
  },
  {
   "cell_type": "code",
   "execution_count": null,
   "metadata": {},
   "outputs": [],
   "source": [
    "# Read the NYC taxi trips data\n",
    "df = spark.sql(\"SELECT * FROM samples.nyctaxi.trips LIMIT 100\")\n",
    "\n",
    "print(f\"Loaded {df.count()} rows\")\n",
    "df.show(10)"
   ]
  },
  {
   "cell_type": "markdown",
   "metadata": {},
   "source": [
    "## 2. Basic Data Exploration"
   ]
  },
  {
   "cell_type": "code",
   "execution_count": null,
   "metadata": {},
   "outputs": [],
   "source": [
    "# Show schema\n",
    "print(\"Schema:\")\n",
    "df.printSchema()\n",
    "\n",
    "# Show sample data\n",
    "print(\"\\nSample rows:\")\n",
    "df.show(5, truncate=False)"
   ]
  },
  {
   "cell_type": "markdown",
   "metadata": {},
   "source": [
    "## 3. Select Specific Columns"
   ]
  },
  {
   "cell_type": "code",
   "execution_count": null,
   "metadata": {},
   "outputs": [],
   "source": [
    "from pyspark.sql.functions import col\n",
    "\n",
    "# Select key columns\n",
    "trips_subset = df.select(\n",
    "    \"tpep_pickup_datetime\",\n",
    "    \"tpep_dropoff_datetime\",\n",
    "    \"trip_distance\",\n",
    "    \"fare_amount\",\n",
    "    \"pickup_zip\",\n",
    "    \"dropoff_zip\"\n",
    ")\n",
    "\n",
    "print(\"Selected columns:\")\n",
    "trips_subset.show(10)"
   ]
  },
  {
   "cell_type": "markdown",
   "metadata": {},
   "source": [
    "## 4. Add Calculated Columns\n",
    "\n",
    "Calculate fare per mile and categorize trips by distance"
   ]
  },
  {
   "cell_type": "code",
   "execution_count": null,
   "metadata": {},
   "outputs": [],
   "source": [
    "from pyspark.sql.functions import col, when, round\n",
    "\n",
    "# Add calculated columns\n",
    "trips_transformed = trips_subset.withColumn(\n",
    "    \"fare_per_mile\",\n",
    "    round(col(\"fare_amount\") / col(\"trip_distance\"), 2)\n",
    ").withColumn(\n",
    "    \"trip_category\",\n",
    "    when(col(\"trip_distance\") < 2, \"Short\")\n",
    "    .when(col(\"trip_distance\") < 5, \"Medium\")\n",
    "    .otherwise(\"Long\")\n",
    ")\n",
    "\n",
    "print(\"Transformed data with calculated columns:\")\n",
    "trips_transformed.show(10)"
   ]
  },
  {
   "cell_type": "markdown",
   "metadata": {},
   "source": [
    "## 5. Filter and Aggregate\n",
    "\n",
    "Filter for trips over $10 and calculate summary statistics"
   ]
  },
  {
   "cell_type": "code",
   "execution_count": null,
   "metadata": {},
   "outputs": [],
   "source": [
    "from pyspark.sql.functions import avg, sum, count\n",
    "\n",
    "# Filter for higher fare trips\n",
    "high_fare_trips = trips_transformed.filter(col(\"fare_amount\") > 10)\n",
    "\n",
    "print(f\"High fare trips (> $10): {high_fare_trips.count()} trips\")\n",
    "high_fare_trips.show(10)\n",
    "\n",
    "# Calculate summary statistics by trip category\n",
    "summary = trips_transformed.groupBy(\"trip_category\").agg(\n",
    "    count(\"*\").alias(\"num_trips\"),\n",
    "    avg(\"fare_amount\").alias(\"avg_fare\"),\n",
    "    avg(\"trip_distance\").alias(\"avg_distance\"),\n",
    "    sum(\"fare_amount\").alias(\"total_revenue\")\n",
    ").orderBy(\"trip_category\")\n",
    "\n",
    "print(\"\\nSummary by trip category:\")\n",
    "summary.show()"
   ]
  },
  {
   "cell_type": "markdown",
   "metadata": {},
   "source": [
    "## 6. SQL Query Example"
   ]
  },
  {
   "cell_type": "code",
   "execution_count": null,
   "metadata": {},
   "outputs": [],
   "source": [
    "# Create temp view for SQL queries\n",
    "trips_transformed.createOrReplaceTempView(\"trips_temp\")\n",
    "\n",
    "# Run SQL query\n",
    "sql_result = spark.sql(\"\"\"\n",
    "    SELECT \n",
    "        trip_category,\n",
    "        COUNT(*) as num_trips,\n",
    "        ROUND(AVG(fare_amount), 2) as avg_fare,\n",
    "        ROUND(AVG(fare_per_mile), 2) as avg_fare_per_mile\n",
    "    FROM trips_temp\n",
    "    WHERE fare_amount > 5\n",
    "    GROUP BY trip_category\n",
    "    ORDER BY avg_fare DESC\n",
    "\"\"\")\n",
    "\n",
    "print(\"SQL query results:\")\n",
    "sql_result.show()"
   ]
  },
  {
   "cell_type": "markdown",
   "metadata": {},
   "source": [
    "## Summary\n",
    "\n",
    "✅ Successfully queried Databricks data using Databricks Connect  \n",
    "✅ Selected and filtered columns  \n",
    "✅ Added calculated columns  \n",
    "✅ Performed aggregations  \n",
    "✅ Used SQL queries  "
   ]
  }
 ],
 "metadata": {
  "kernelspec": {
   "display_name": "Python 3",
   "language": "python",
   "name": "python3"
  },
  "language_info": {
   "codemirror_mode": {
    "name": "ipython",
    "version": 3
   },
   "file_extension": ".py",
   "mimetype": "text/x-python",
   "name": "python",
   "nbconvert_exporter": "python",
   "pygments_lexer": "ipython3",
   "version": "3.9.0"
  }
 },
 "nbformat": 4,
 "nbformat_minor": 4
}
